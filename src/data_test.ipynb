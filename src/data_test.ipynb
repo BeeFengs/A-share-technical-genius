{
 "cells": [
  {
   "cell_type": "code",
   "execution_count": 19,
   "metadata": {},
   "outputs": [
    {
     "data": {
      "text/html": [
       "<div>\n",
       "<style scoped>\n",
       "    .dataframe tbody tr th:only-of-type {\n",
       "        vertical-align: middle;\n",
       "    }\n",
       "\n",
       "    .dataframe tbody tr th {\n",
       "        vertical-align: top;\n",
       "    }\n",
       "\n",
       "    .dataframe thead th {\n",
       "        text-align: right;\n",
       "    }\n",
       "</style>\n",
       "<table border=\"1\" class=\"dataframe\">\n",
       "  <thead>\n",
       "    <tr style=\"text-align: right;\">\n",
       "      <th></th>\n",
       "      <th>open</th>\n",
       "      <th>open_hfq</th>\n",
       "      <th>open_qfq</th>\n",
       "    </tr>\n",
       "  </thead>\n",
       "  <tbody>\n",
       "    <tr>\n",
       "      <th>0</th>\n",
       "      <td>5.61</td>\n",
       "      <td>17.63784</td>\n",
       "      <td>5.61</td>\n",
       "    </tr>\n",
       "  </tbody>\n",
       "</table>\n",
       "</div>"
      ],
      "text/plain": [
       "   open  open_hfq  open_qfq\n",
       "0  5.61  17.63784      5.61"
      ]
     },
     "execution_count": 19,
     "metadata": {},
     "output_type": "execute_result"
    }
   ],
   "source": [
    "\n",
    "\n",
    "import tushare as ts\n",
    "pro = ts.pro_api('311165ab8d8035b1ea5ffabfb2a6c4ff3adafa3295827bc06fcb4720')\n",
    "\n",
    "df = pro.stk_factor_pro(ts_code='002298.SZ', \n",
    "                        start_date='20250215', \n",
    "                        end_date='2025021870', \n",
    "                        fields='open,open_hfq,open_qfq')\n",
    "df\n",
    "\n"
   ]
  },
  {
   "cell_type": "code",
   "execution_count": 20,
   "metadata": {},
   "outputs": [
    {
     "data": {
      "text/html": [
       "<div>\n",
       "<style scoped>\n",
       "    .dataframe tbody tr th:only-of-type {\n",
       "        vertical-align: middle;\n",
       "    }\n",
       "\n",
       "    .dataframe tbody tr th {\n",
       "        vertical-align: top;\n",
       "    }\n",
       "\n",
       "    .dataframe thead th {\n",
       "        text-align: right;\n",
       "    }\n",
       "</style>\n",
       "<table border=\"1\" class=\"dataframe\">\n",
       "  <thead>\n",
       "    <tr style=\"text-align: right;\">\n",
       "      <th></th>\n",
       "      <th>open</th>\n",
       "      <th>open_qfq</th>\n",
       "      <th>ma_qfq_5</th>\n",
       "      <th>ma_qfq_10</th>\n",
       "      <th>ma_qfq_20</th>\n",
       "      <th>ma_qfq_30</th>\n",
       "      <th>ma_qfq_60</th>\n",
       "      <th>ma_qfq_90</th>\n",
       "      <th>ma_qfq_250</th>\n",
       "    </tr>\n",
       "  </thead>\n",
       "  <tbody>\n",
       "    <tr>\n",
       "      <th>0</th>\n",
       "      <td>11.6</td>\n",
       "      <td>11.6</td>\n",
       "      <td>11.534</td>\n",
       "      <td>11.468</td>\n",
       "      <td>11.413</td>\n",
       "      <td>11.45667</td>\n",
       "      <td>11.51683</td>\n",
       "      <td>11.58498</td>\n",
       "      <td>10.42858</td>\n",
       "    </tr>\n",
       "  </tbody>\n",
       "</table>\n",
       "</div>"
      ],
      "text/plain": [
       "   open  open_qfq  ma_qfq_5  ma_qfq_10  ma_qfq_20  ma_qfq_30  ma_qfq_60  \\\n",
       "0  11.6      11.6    11.534     11.468     11.413   11.45667   11.51683   \n",
       "\n",
       "   ma_qfq_90  ma_qfq_250  \n",
       "0   11.58498    10.42858  "
      ]
     },
     "execution_count": 20,
     "metadata": {},
     "output_type": "execute_result"
    }
   ],
   "source": [
    "df = pro.stk_factor_pro(ts_code='000001.SZ', \n",
    "                        start_date='20250215', \n",
    "                        end_date='2025021870', \n",
    "                        fields='open,open_qfq,ma_qfq_5,ma_qfq_10,ma_qfq_20,ma_qfq_30,ma_qfq_60,ma_qfq_90,ma_qfq_250')\n",
    "df"
   ]
  }
 ],
 "metadata": {
  "kernelspec": {
   "display_name": "base",
   "language": "python",
   "name": "python3"
  },
  "language_info": {
   "codemirror_mode": {
    "name": "ipython",
    "version": 3
   },
   "file_extension": ".py",
   "mimetype": "text/x-python",
   "name": "python",
   "nbconvert_exporter": "python",
   "pygments_lexer": "ipython3",
   "version": "3.11.5"
  }
 },
 "nbformat": 4,
 "nbformat_minor": 2
}
