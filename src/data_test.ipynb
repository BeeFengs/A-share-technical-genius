{
 "cells": [
  {
   "cell_type": "code",
   "execution_count": null,
   "metadata": {},
   "outputs": [],
   "source": [
    "\n",
    "\n",
    "\n",
    "pro = ts.pro_api()\n",
    "\n",
    "df = pro.stk_factor(ts_code='600000.SH', start_date='20220501', end_date='20220520', fields='ts_code,trade_date,macd,kdj_k,kdj_d,kdj_j')"
   ]
  }
 ],
 "metadata": {
  "language_info": {
   "name": "python"
  }
 },
 "nbformat": 4,
 "nbformat_minor": 2
}
